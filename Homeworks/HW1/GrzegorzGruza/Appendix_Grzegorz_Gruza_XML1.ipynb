{
  "nbformat": 4,
  "nbformat_minor": 0,
  "metadata": {
    "colab": {
      "provenance": [],
      "gpuType": "T4"
    },
    "kernelspec": {
      "name": "python3",
      "display_name": "Python 3"
    },
    "language_info": {
      "name": "python"
    },
    "accelerator": "GPU"
  },
  "cells": [
    {
      "cell_type": "markdown",
      "source": [
        "#**Appendix**"
      ],
      "metadata": {
        "id": "2u9Xhhq4bF_n"
      }
    },
    {
      "cell_type": "markdown",
      "source": [
        "#Explainable Machine Learning --- Homework 1\n",
        "##*Grzegorz Gruza, 417923*"
      ],
      "metadata": {
        "id": "tthVeNYma0Iq"
      }
    },
    {
      "cell_type": "code",
      "source": [
        "import torch\n",
        "\n",
        "# Check if GPU is available\n",
        "if torch.cuda.is_available():\n",
        "    device = torch.cuda.get_device_name()\n",
        "    print(f'GPU: {device}')\n",
        "    DEVICE = 'cuda'\n",
        "else:\n",
        "    print('No GPU available, using CPU.')\n",
        "    DEVICE = 'cpu'"
      ],
      "metadata": {
        "colab": {
          "base_uri": "https://localhost:8080/"
        },
        "id": "FaJhgnkPn1xe",
        "outputId": "43817cd6-5dcf-4de7-ed01-f9e3cf9417c5"
      },
      "execution_count": 14,
      "outputs": [
        {
          "output_type": "stream",
          "name": "stdout",
          "text": [
            "GPU: Tesla T4\n"
          ]
        }
      ]
    },
    {
      "cell_type": "code",
      "execution_count": 15,
      "metadata": {
        "colab": {
          "base_uri": "https://localhost:8080/"
        },
        "id": "HGnkkr6vNaK7",
        "outputId": "ebf6b896-1b81-4a48-d7b3-5b8f447674c5"
      },
      "outputs": [
        {
          "output_type": "stream",
          "name": "stdout",
          "text": [
            "--2023-10-13 20:27:48--  https://raw.githubusercontent.com/adrianstando/imbalanced-benchmarking-set/main/datasets/wine_quality.csv\n",
            "Resolving raw.githubusercontent.com (raw.githubusercontent.com)... 185.199.108.133, 185.199.109.133, 185.199.110.133, ...\n",
            "Connecting to raw.githubusercontent.com (raw.githubusercontent.com)|185.199.108.133|:443... connected.\n",
            "HTTP request sent, awaiting response... 200 OK\n",
            "Length: 315368 (308K) [text/plain]\n",
            "Saving to: ‘wine_quality.csv.8’\n",
            "\n",
            "\rwine_quality.csv.8    0%[                    ]       0  --.-KB/s               \rwine_quality.csv.8  100%[===================>] 307.98K  --.-KB/s    in 0.02s   \n",
            "\n",
            "2023-10-13 20:27:48 (13.7 MB/s) - ‘wine_quality.csv.8’ saved [315368/315368]\n",
            "\n"
          ]
        }
      ],
      "source": [
        "!wget https://raw.githubusercontent.com/adrianstando/imbalanced-benchmarking-set/main/datasets/wine_quality.csv"
      ]
    },
    {
      "cell_type": "code",
      "source": [
        "!pip install tabpfn"
      ],
      "metadata": {
        "colab": {
          "base_uri": "https://localhost:8080/"
        },
        "id": "LEhvbGPMl2wy",
        "outputId": "55de05ae-3c17-48d8-df1c-c2ecc5325638"
      },
      "execution_count": 16,
      "outputs": [
        {
          "output_type": "stream",
          "name": "stdout",
          "text": [
            "Requirement already satisfied: tabpfn in /usr/local/lib/python3.10/dist-packages (0.1.9)\n",
            "Requirement already satisfied: numpy>=1.21.2 in /usr/local/lib/python3.10/dist-packages (from tabpfn) (1.23.5)\n",
            "Requirement already satisfied: pyyaml>=5.4.1 in /usr/local/lib/python3.10/dist-packages (from tabpfn) (6.0.1)\n",
            "Requirement already satisfied: requests>=2.23.0 in /usr/local/lib/python3.10/dist-packages (from tabpfn) (2.31.0)\n",
            "Requirement already satisfied: scikit-learn>=0.24.2 in /usr/local/lib/python3.10/dist-packages (from tabpfn) (1.2.2)\n",
            "Requirement already satisfied: torch>=1.9.0 in /usr/local/lib/python3.10/dist-packages (from tabpfn) (2.0.1+cu118)\n",
            "Requirement already satisfied: charset-normalizer<4,>=2 in /usr/local/lib/python3.10/dist-packages (from requests>=2.23.0->tabpfn) (3.3.0)\n",
            "Requirement already satisfied: idna<4,>=2.5 in /usr/local/lib/python3.10/dist-packages (from requests>=2.23.0->tabpfn) (3.4)\n",
            "Requirement already satisfied: urllib3<3,>=1.21.1 in /usr/local/lib/python3.10/dist-packages (from requests>=2.23.0->tabpfn) (2.0.6)\n",
            "Requirement already satisfied: certifi>=2017.4.17 in /usr/local/lib/python3.10/dist-packages (from requests>=2.23.0->tabpfn) (2023.7.22)\n",
            "Requirement already satisfied: scipy>=1.3.2 in /usr/local/lib/python3.10/dist-packages (from scikit-learn>=0.24.2->tabpfn) (1.11.3)\n",
            "Requirement already satisfied: joblib>=1.1.1 in /usr/local/lib/python3.10/dist-packages (from scikit-learn>=0.24.2->tabpfn) (1.3.2)\n",
            "Requirement already satisfied: threadpoolctl>=2.0.0 in /usr/local/lib/python3.10/dist-packages (from scikit-learn>=0.24.2->tabpfn) (3.2.0)\n",
            "Requirement already satisfied: filelock in /usr/local/lib/python3.10/dist-packages (from torch>=1.9.0->tabpfn) (3.12.4)\n",
            "Requirement already satisfied: typing-extensions in /usr/local/lib/python3.10/dist-packages (from torch>=1.9.0->tabpfn) (4.5.0)\n",
            "Requirement already satisfied: sympy in /usr/local/lib/python3.10/dist-packages (from torch>=1.9.0->tabpfn) (1.12)\n",
            "Requirement already satisfied: networkx in /usr/local/lib/python3.10/dist-packages (from torch>=1.9.0->tabpfn) (3.1)\n",
            "Requirement already satisfied: jinja2 in /usr/local/lib/python3.10/dist-packages (from torch>=1.9.0->tabpfn) (3.1.2)\n",
            "Requirement already satisfied: triton==2.0.0 in /usr/local/lib/python3.10/dist-packages (from torch>=1.9.0->tabpfn) (2.0.0)\n",
            "Requirement already satisfied: cmake in /usr/local/lib/python3.10/dist-packages (from triton==2.0.0->torch>=1.9.0->tabpfn) (3.27.6)\n",
            "Requirement already satisfied: lit in /usr/local/lib/python3.10/dist-packages (from triton==2.0.0->torch>=1.9.0->tabpfn) (17.0.2)\n",
            "Requirement already satisfied: MarkupSafe>=2.0 in /usr/local/lib/python3.10/dist-packages (from jinja2->torch>=1.9.0->tabpfn) (2.1.3)\n",
            "Requirement already satisfied: mpmath>=0.19 in /usr/local/lib/python3.10/dist-packages (from sympy->torch>=1.9.0->tabpfn) (1.3.0)\n"
          ]
        }
      ]
    },
    {
      "cell_type": "code",
      "source": [
        "import pandas as pd\n",
        "from sklearn.model_selection import train_test_split\n",
        "\n",
        "df = pd.read_csv('wine_quality.csv')\n",
        "df = df.head(2048)\n",
        "\n",
        "print(df.head())\n",
        "df = df.dropna()\n",
        "X = df.drop('TARGET', axis=1)  # Features\n",
        "y = df['TARGET']  # Labels\n",
        "X_train, X_test, y_train, y_test = train_test_split(X, y, test_size=0.3, random_state=7)\n",
        "\n",
        "print(\"Shapes of the sets:\")\n",
        "print(\"X_train:\", X_train.shape)\n",
        "print(\"X_test:\", X_test.shape)\n",
        "print(\"y_train:\", y_train.shape)\n",
        "print(\"y_test:\", y_test.shape)\n"
      ],
      "metadata": {
        "colab": {
          "base_uri": "https://localhost:8080/"
        },
        "id": "F0OX--LtZBX1",
        "outputId": "73631f5f-f628-41ae-8ee7-3cb96fdcc789"
      },
      "execution_count": 17,
      "outputs": [
        {
          "output_type": "stream",
          "name": "stdout",
          "text": [
            "   Unnamed: 0    0     1     2     3      4     5      6       7     8     9  \\\n",
            "0           0  7.0  0.27  0.36  20.7  0.045  45.0  170.0  1.0010  3.00  0.45   \n",
            "1           1  6.3  0.30  0.34   1.6  0.049  14.0  132.0  0.9940  3.30  0.49   \n",
            "2           2  8.1  0.28  0.40   6.9  0.050  30.0   97.0  0.9951  3.26  0.44   \n",
            "3           3  7.2  0.23  0.32   8.5  0.058  47.0  186.0  0.9956  3.19  0.40   \n",
            "4           4  7.2  0.23  0.32   8.5  0.058  47.0  186.0  0.9956  3.19  0.40   \n",
            "\n",
            "     10  TARGET  \n",
            "0   8.8      -1  \n",
            "1   9.5      -1  \n",
            "2  10.1      -1  \n",
            "3   9.9      -1  \n",
            "4   9.9      -1  \n",
            "Shapes of the sets:\n",
            "X_train: (1433, 12)\n",
            "X_test: (615, 12)\n",
            "y_train: (1433,)\n",
            "y_test: (615,)\n"
          ]
        }
      ]
    },
    {
      "cell_type": "code",
      "source": [
        "from sklearn.linear_model import LogisticRegression\n",
        "from sklearn.ensemble import GradientBoostingClassifier, RandomForestClassifier\n",
        "from sklearn.metrics import accuracy_score, classification_report\n",
        "from tabpfn import TabPFNClassifier\n",
        "\n",
        "\n",
        "# Train Logistic Regression model\n",
        "logistic_regression_model = LogisticRegression()\n",
        "logistic_regression_model.fit(X_train, y_train)\n",
        "\n",
        "# Evaluate Logistic Regression model\n",
        "y_pred_logistic = logistic_regression_model.predict(X_test)\n",
        "accuracy_logistic = accuracy_score(y_test, y_pred_logistic)\n",
        "print(\"\\nLogistic Regression Model:\")\n",
        "print(\"Accuracy:\", accuracy_logistic)\n",
        "print(\"Classification Report:\")\n",
        "print(classification_report(y_test, y_pred_logistic))\n",
        "\n",
        "\n",
        "# Train Gradient Boosting model\n",
        "gradient_boosting_model = GradientBoostingClassifier()\n",
        "gradient_boosting_model.fit(X_train, y_train)\n",
        "\n",
        "# Evaluate Gradient Boosting model\n",
        "y_pred_gb = gradient_boosting_model.predict(X_test)\n",
        "accuracy_gb = accuracy_score(y_test, y_pred_gb)\n",
        "print(\"\\nGradient Boosting Model:\")\n",
        "print(\"Accuracy:\", accuracy_gb)\n",
        "print(\"Classification Report:\")\n",
        "print(classification_report(y_test, y_pred_gb))\n",
        "\n",
        "\n",
        "# Train Random Forest model\n",
        "random_forest_model = RandomForestClassifier()\n",
        "random_forest_model.fit(X_train, y_train)\n",
        "\n",
        "# Evaluate Random Forest model\n",
        "y_pred_rf = random_forest_model.predict(X_test)\n",
        "accuracy_rf = accuracy_score(y_test, y_pred_rf)\n",
        "print(\"\\nRandom Forest Model:\")\n",
        "print(\"Accuracy:\", accuracy_rf)\n",
        "print(\"Classification Report:\")\n",
        "print(classification_report(y_test, y_pred_rf))\n",
        "\n",
        "\n",
        "# Train TabPFN\n",
        "tabpfn_model = TabPFNClassifier(device=DEVICE, N_ensemble_configurations=32)\n",
        "tabpfn_model.fit(X_train, y_train, overwrite_warning=True)\n",
        "\n",
        "# Evaluate TabPFN\n",
        "y_pred_tabpfn = tabpfn_model.predict(X_test)\n",
        "accuracy_tabpfn = accuracy_score(y_test, y_pred_tabpfn)\n",
        "print(\"\\nTabPFN:\")\n",
        "print(\"Accuracy:\", accuracy_tabpfn)\n",
        "print(\"Classification Report:\")\n",
        "print(classification_report(y_test, y_pred_tabpfn))\n"
      ],
      "metadata": {
        "colab": {
          "base_uri": "https://localhost:8080/"
        },
        "id": "qNgXwxu9giV9",
        "outputId": "39c2dd5e-9181-4f6a-9f47-360c1812a70a"
      },
      "execution_count": 18,
      "outputs": [
        {
          "output_type": "stream",
          "name": "stdout",
          "text": [
            "\n",
            "Logistic Regression Model:\n",
            "Accuracy: 0.9512195121951219\n",
            "Classification Report:\n",
            "              precision    recall  f1-score   support\n",
            "\n",
            "          -1       0.95      1.00      0.97       585\n",
            "           1       0.00      0.00      0.00        30\n",
            "\n",
            "    accuracy                           0.95       615\n",
            "   macro avg       0.48      0.50      0.49       615\n",
            "weighted avg       0.90      0.95      0.93       615\n",
            "\n"
          ]
        },
        {
          "output_type": "stream",
          "name": "stderr",
          "text": [
            "/usr/local/lib/python3.10/dist-packages/ipykernel/ipkernel.py:283: DeprecationWarning: `should_run_async` will not call `transform_cell` automatically in the future. Please pass the result to `transformed_cell` argument and any exception that happen during thetransform in `preprocessing_exc_tuple` in IPython 7.17 and above.\n",
            "  and should_run_async(code)\n",
            "/usr/local/lib/python3.10/dist-packages/sklearn/linear_model/_logistic.py:458: ConvergenceWarning: lbfgs failed to converge (status=1):\n",
            "STOP: TOTAL NO. of ITERATIONS REACHED LIMIT.\n",
            "\n",
            "Increase the number of iterations (max_iter) or scale the data as shown in:\n",
            "    https://scikit-learn.org/stable/modules/preprocessing.html\n",
            "Please also refer to the documentation for alternative solver options:\n",
            "    https://scikit-learn.org/stable/modules/linear_model.html#logistic-regression\n",
            "  n_iter_i = _check_optimize_result(\n",
            "/usr/local/lib/python3.10/dist-packages/sklearn/metrics/_classification.py:1344: UndefinedMetricWarning: Precision and F-score are ill-defined and being set to 0.0 in labels with no predicted samples. Use `zero_division` parameter to control this behavior.\n",
            "  _warn_prf(average, modifier, msg_start, len(result))\n",
            "/usr/local/lib/python3.10/dist-packages/sklearn/metrics/_classification.py:1344: UndefinedMetricWarning: Precision and F-score are ill-defined and being set to 0.0 in labels with no predicted samples. Use `zero_division` parameter to control this behavior.\n",
            "  _warn_prf(average, modifier, msg_start, len(result))\n",
            "/usr/local/lib/python3.10/dist-packages/sklearn/metrics/_classification.py:1344: UndefinedMetricWarning: Precision and F-score are ill-defined and being set to 0.0 in labels with no predicted samples. Use `zero_division` parameter to control this behavior.\n",
            "  _warn_prf(average, modifier, msg_start, len(result))\n"
          ]
        },
        {
          "output_type": "stream",
          "name": "stdout",
          "text": [
            "\n",
            "Gradient Boosting Model:\n",
            "Accuracy: 0.9447154471544715\n",
            "Classification Report:\n",
            "              precision    recall  f1-score   support\n",
            "\n",
            "          -1       0.96      0.98      0.97       585\n",
            "           1       0.40      0.27      0.32        30\n",
            "\n",
            "    accuracy                           0.94       615\n",
            "   macro avg       0.68      0.62      0.65       615\n",
            "weighted avg       0.94      0.94      0.94       615\n",
            "\n",
            "\n",
            "Random Forest Model:\n",
            "Accuracy: 0.943089430894309\n",
            "Classification Report:\n",
            "              precision    recall  f1-score   support\n",
            "\n",
            "          -1       0.96      0.99      0.97       585\n",
            "           1       0.27      0.10      0.15        30\n",
            "\n",
            "    accuracy                           0.94       615\n",
            "   macro avg       0.61      0.54      0.56       615\n",
            "weighted avg       0.92      0.94      0.93       615\n",
            "\n",
            "Loading model that can be used for inference only\n",
            "Using a Transformer with 25.82 M parameters\n",
            "\n",
            "TabPFN:\n",
            "Accuracy: 0.9512195121951219\n",
            "Classification Report:\n",
            "              precision    recall  f1-score   support\n",
            "\n",
            "          -1       0.95      1.00      0.97       585\n",
            "           1       0.50      0.07      0.12        30\n",
            "\n",
            "    accuracy                           0.95       615\n",
            "   macro avg       0.73      0.53      0.55       615\n",
            "weighted avg       0.93      0.95      0.93       615\n",
            "\n"
          ]
        }
      ]
    },
    {
      "cell_type": "code",
      "source": [
        "# This is a code cell\n",
        "\n",
        "import matplotlib.pyplot as plt\n",
        "import pandas as pd\n",
        "\n",
        "# Create a DataFrame with model names and their accuracy\n",
        "data = {\n",
        "    'Model': ['Logistic Regression', 'Gradient Boosting', 'Random Forest', 'TabPFN'],\n",
        "    'Accuracy': [accuracy_logistic, accuracy_gb, accuracy_rf, accuracy_tabpfn]\n",
        "}\n",
        "\n",
        "df = pd.DataFrame(data)\n",
        "\n",
        "# Plotting\n",
        "plt.figure(figsize=(8, 5))\n",
        "plt.bar(df['Model'], df['Accuracy'], color=['blue', 'green', 'orange', 'red'])\n",
        "plt.title('Model Accuracies')\n",
        "plt.xlabel('Model')\n",
        "plt.ylabel('Accuracy')\n",
        "plt.ylim(0, 1)  # Set y-axis range to 0-1 for accuracy values\n",
        "plt.show()"
      ],
      "metadata": {
        "colab": {
          "base_uri": "https://localhost:8080/",
          "height": 542
        },
        "id": "n84Xh2fjcbJp",
        "outputId": "f9daf671-9567-446f-b0fc-6a68a2cec29e"
      },
      "execution_count": 19,
      "outputs": [
        {
          "output_type": "stream",
          "name": "stderr",
          "text": [
            "/usr/local/lib/python3.10/dist-packages/ipykernel/ipkernel.py:283: DeprecationWarning: `should_run_async` will not call `transform_cell` automatically in the future. Please pass the result to `transformed_cell` argument and any exception that happen during thetransform in `preprocessing_exc_tuple` in IPython 7.17 and above.\n",
            "  and should_run_async(code)\n"
          ]
        },
        {
          "output_type": "display_data",
          "data": {
            "text/plain": [
              "<Figure size 800x500 with 1 Axes>"
            ],
            "image/png": "[encoded data removed]"
          },
          "metadata": {}
        }
      ]
    },
    {
      "cell_type": "code",
      "source": [],
      "metadata": {
        "colab": {
          "base_uri": "https://localhost:8080/"
        },
        "id": "fTW7uaYJrTKc",
        "outputId": "2e94efc4-b785-4adf-85a6-ad796c08671a"
      },
      "execution_count": 19,
      "outputs": [
        {
          "output_type": "stream",
          "name": "stderr",
          "text": [
            "/usr/local/lib/python3.10/dist-packages/ipykernel/ipkernel.py:283: DeprecationWarning: `should_run_async` will not call `transform_cell` automatically in the future. Please pass the result to `transformed_cell` argument and any exception that happen during thetransform in `preprocessing_exc_tuple` in IPython 7.17 and above.\n",
            "  and should_run_async(code)\n"
          ]
        }
      ]
    }
  ]
}